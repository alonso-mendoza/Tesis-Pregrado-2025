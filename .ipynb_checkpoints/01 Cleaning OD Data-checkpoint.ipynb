{
 "cells": [
  {
   "cell_type": "code",
   "execution_count": 16,
   "id": "07dbe851-c48c-4cf6-a976-d43f5c861090",
   "metadata": {},
   "outputs": [],
   "source": [
    "import pandas as pd\n",
    "import numpy as np"
   ]
  },
  {
   "cell_type": "code",
   "execution_count": 17,
   "id": "2dc7c96c-9d2d-4085-bbc8-fc63d335784c",
   "metadata": {},
   "outputs": [
    {
     "name": "stdout",
     "output_type": "stream",
     "text": [
      "Available Sheets:\n",
      "['Hogares', 'Personas', 'Viajes']\n"
     ]
    }
   ],
   "source": [
    "# Loading the Excel file from my GitHub rep\n",
    "file_path = 'https://github.com/alonso-mendoza/Tesis-Pregrado-2025/raw/refs/heads/main/02_BD_Domiciliaria_Encuesta%20expandida.xlsx'\n",
    "\n",
    "xls = pd.ExcelFile(file_path)\n",
    "\n",
    "# Checking out which sheets I have available\n",
    "print(\"Available Sheets:\")\n",
    "print(xls.sheet_names)"
   ]
  },
  {
   "cell_type": "code",
   "execution_count": 18,
   "id": "fc4c8c0c-d0f2-42a6-a87c-97c64704c623",
   "metadata": {
    "scrolled": true
   },
   "outputs": [
    {
     "name": "stdout",
     "output_type": "stream",
     "text": [
      "<class 'pandas.core.frame.DataFrame'>\n",
      "RangeIndex: 32448 entries, 0 to 32447\n",
      "Columns: 106 entries, ID to F_Exp * F_Exp2\n",
      "dtypes: float64(42), int64(21), object(43)\n",
      "memory usage: 26.2+ MB\n"
     ]
    }
   ],
   "source": [
    "# We'll create a data frame for the 'Viajes' sheet, where we'll work first\n",
    "df_viajes = pd.read_excel(file_path, sheet_name='Viajes')\n",
    "\n",
    "# Checking info\n",
    "df_viajes.info()"
   ]
  },
  {
   "cell_type": "code",
   "execution_count": null,
   "id": "7d0d1d4c-d39c-4a3e-9a4c-c05aea5ea06a",
   "metadata": {},
   "outputs": [],
   "source": [
    "# We've got 106 columns, and for the purpose of this work, we want to drop most of them\n"
   ]
  }
 ],
 "metadata": {
  "kernelspec": {
   "display_name": "Python [conda env:base] *",
   "language": "python",
   "name": "conda-base-py"
  },
  "language_info": {
   "codemirror_mode": {
    "name": "ipython",
    "version": 3
   },
   "file_extension": ".py",
   "mimetype": "text/x-python",
   "name": "python",
   "nbconvert_exporter": "python",
   "pygments_lexer": "ipython3",
   "version": "3.12.7"
  }
 },
 "nbformat": 4,
 "nbformat_minor": 5
}
